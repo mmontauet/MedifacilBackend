{
 "cells": [
  {
   "cell_type": "code",
   "execution_count": 4,
   "metadata": {},
   "outputs": [
    {
     "name": "stdout",
     "output_type": "stream",
     "text": [
      "Connection successful!\n"
     ]
    }
   ],
   "source": [
    "import psycopg2\n",
    "\n",
    "hostname = 'localhost'\n",
    "username = 'postgres'  # El usuario con el que te conectas\n",
    "password = 'root1234'  # La contraseña del usuario\n",
    "database = 'postgres'  # La base de datos a la que te conectas\n",
    "port = '5433'  # Puerto de PostgreSQL (el valor por defecto es 5432)\n",
    "\n",
    "try:\n",
    "    connection = psycopg2.connect(\n",
    "        host=hostname,\n",
    "        user=username,\n",
    "        password=password,\n",
    "        dbname=database,\n",
    "        port=port\n",
    "    )\n",
    "    cursor = connection.cursor()\n",
    "    cursor.execute(\"SELECT 1\")\n",
    "    print(\"Connection successful!\")\n",
    "    cursor.close()\n",
    "    connection.close()\n",
    "except Exception as e:\n",
    "    print(f\"Error connecting to the database: {e}\")\n"
   ]
  },
  {
   "cell_type": "code",
   "execution_count": 11,
   "metadata": {},
   "outputs": [
    {
     "name": "stdout",
     "output_type": "stream",
     "text": [
      "Benzotron x1  y otra descripcion, 0.2784\n",
      "Medicamente unidad  adicionales, 1.0000\n"
     ]
    }
   ],
   "source": [
    "import re\n",
    "\n",
    "def parse_medication_prices(medications):\n",
    "    parsed_medications = []\n",
    "    pattern = re.compile(r'(.+?)(?:\\s*x(\\d+)|\\s*(\\d+)\\s*(unidad?e?s?))(.+)', re.IGNORECASE)\n",
    "\n",
    "    for med_name, price in medications:\n",
    "        match = pattern.search(med_name)\n",
    "        if match:\n",
    "            base_name = match.group(1).strip()\n",
    "            quantity = int(match.group(2) if match.group(2) else match.group(3))\n",
    "\n",
    "            if match.group(4):  # if 'unidades' was matched\n",
    "                base_name = f\"{base_name} unidad {match.groups()[-1]}\".strip()\n",
    "            else:\n",
    "                base_name = f\"{base_name} x1 {match.groups()[-1]}\".strip()\n",
    "\n",
    "            unit_price = price / quantity\n",
    "            parsed_medications.append((base_name, unit_price))\n",
    "        else:\n",
    "            # If no pattern is matched, assume the price is for one unit\n",
    "            parsed_medications.append((med_name, price))\n",
    "\n",
    "    return parsed_medications\n",
    "\n",
    "# Lista de medicamentos (nombre, precio)\n",
    "medications = [\n",
    "    ('Benzotron x100 y otra descripcion', 27.84),\n",
    "    ('Medicamente 10 unidades adicionales', 10)\n",
    "]\n",
    "\n",
    "# Parsear los precios unitarios\n",
    "parsed_medications = parse_medication_prices(medications)\n",
    "\n",
    "# Imprimir los resultados\n",
    "for med in parsed_medications:\n",
    "    print(f'{med[0]}, {med[1]:.4f}')\n"
   ]
  },
  {
   "cell_type": "code",
   "execution_count": null,
   "metadata": {},
   "outputs": [],
   "source": []
  }
 ],
 "metadata": {
  "kernelspec": {
   "display_name": "medifacil",
   "language": "python",
   "name": "python3"
  },
  "language_info": {
   "codemirror_mode": {
    "name": "ipython",
    "version": 3
   },
   "file_extension": ".py",
   "mimetype": "text/x-python",
   "name": "python",
   "nbconvert_exporter": "python",
   "pygments_lexer": "ipython3",
   "version": "3.11.9"
  }
 },
 "nbformat": 4,
 "nbformat_minor": 2
}
